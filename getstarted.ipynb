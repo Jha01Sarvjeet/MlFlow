{
 "cells": [
  {
   "cell_type": "code",
   "execution_count": null,
   "id": "30c5af1c",
   "metadata": {},
   "outputs": [],
   "source": []
  },
  {
   "cell_type": "code",
   "execution_count": 6,
   "id": "1ff58f0b",
   "metadata": {},
   "outputs": [],
   "source": [
    "import mlflow"
   ]
  },
  {
   "cell_type": "markdown",
   "id": "2a523d7a",
   "metadata": {},
   "source": [
    "MLFLOW Tracking server"
   ]
  },
  {
   "cell_type": "code",
   "execution_count": 7,
   "id": "e28c3d94",
   "metadata": {},
   "outputs": [],
   "source": [
    "mlflow.set_tracking_uri(\"http://127.0.0.1:5000\")"
   ]
  },
  {
   "cell_type": "code",
   "execution_count": 8,
   "id": "740ea3d3",
   "metadata": {},
   "outputs": [],
   "source": [
    "# mlflow.set_tracking_uri(\"file:///your/path\")"
   ]
  },
  {
   "cell_type": "code",
   "execution_count": 9,
   "id": "0d7d690a",
   "metadata": {},
   "outputs": [
    {
     "name": "stdout",
     "output_type": "stream",
     "text": [
      "CPU times: total: 0 ns\n",
      "Wall time: 0 ns\n",
      "🏃 View run righteous-fawn-298 at: http://127.0.0.1:5000/#/experiments/143212695948233712/runs/61d1656dc1bb4c2f979ffb84153a4c13\n",
      "🧪 View experiment at: http://127.0.0.1:5000/#/experiments/143212695948233712\n"
     ]
    }
   ],
   "source": [
    "import mlflow\n",
    "\n",
    "mlflow.set_experiment(\"check experiment connection\")\n",
    "%time\n",
    "with mlflow.start_run():\n",
    "    mlflow.log_metric(\"task\", 1)\n",
    "    mlflow.log_metric(\"sarvjeet\", 2)\n"
   ]
  },
  {
   "cell_type": "code",
   "execution_count": 12,
   "id": "9f72836c",
   "metadata": {},
   "outputs": [
    {
     "name": "stdout",
     "output_type": "stream",
     "text": [
      "🏃 View run bright-squirrel-730 at: http://127.0.0.1:5000/#/experiments/143212695948233712/runs/a425d2dc528b44c6baa56e3a4003a8fb\n",
      "🧪 View experiment at: http://127.0.0.1:5000/#/experiments/143212695948233712\n"
     ]
    }
   ],
   "source": [
    "with mlflow.start_run():\n",
    "    mlflow.log_metric(\"tak2\",1)\n",
    "    mlflow.log_metric(\"sarvjeet\",2.5)"
   ]
  },
  {
   "cell_type": "code",
   "execution_count": 14,
   "id": "5e647d8f",
   "metadata": {},
   "outputs": [
    {
     "name": "stdout",
     "output_type": "stream",
     "text": [
      "🏃 View run sneaky-robin-817 at: http://127.0.0.1:5000/#/experiments/143212695948233712/runs/dc6442dddbe6447b8446ff145f0b06f1\n",
      "🧪 View experiment at: http://127.0.0.1:5000/#/experiments/143212695948233712\n"
     ]
    }
   ],
   "source": [
    "with mlflow.start_run():\n",
    "    mlflow.log_metric('tsk3',6)\n",
    "    mlflow.log_metric('sarvjeet3',2)"
   ]
  }
 ],
 "metadata": {
  "kernelspec": {
   "display_name": "Python 3",
   "language": "python",
   "name": "python3"
  },
  "language_info": {
   "codemirror_mode": {
    "name": "ipython",
    "version": 3
   },
   "file_extension": ".py",
   "mimetype": "text/x-python",
   "name": "python",
   "nbconvert_exporter": "python",
   "pygments_lexer": "ipython3",
   "version": "3.10.0"
  }
 },
 "nbformat": 4,
 "nbformat_minor": 5
}
